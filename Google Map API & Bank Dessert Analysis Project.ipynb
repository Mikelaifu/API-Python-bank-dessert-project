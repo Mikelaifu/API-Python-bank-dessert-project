{
 "cells": [
  {
   "cell_type": "code",
   "execution_count": null,
   "metadata": {
    "collapsed": true
   },
   "outputs": [],
   "source": [
    "# Dependencies\n",
    "import numpy as np\n",
    "import pandas as pd\n",
    "import matplotlib.pyplot as plt\n",
    "import requests\n",
    "import time\n",
    "import json\n",
    "from pprint import pprint\n",
    "import requests\n",
    "# Google Places API Key from config\n",
    "from config import gkey"
   ]
  },
  {
   "cell_type": "code",
   "execution_count": null,
   "metadata": {
    "collapsed": true
   },
   "outputs": [],
   "source": [
    "# Import the census data into a pandas DataFrame\n",
    "\n",
    "census_data = pd.read_csv('Census_Data.csv')\n",
    "# Preview the data\n",
    "mask = census_data['Population'] >= 100\n",
    "\n",
    "census_dta = census_data[mask]\n",
    "census_dta.head()\n",
    "\n",
    "# Randomly select 700 zip codes locations that have at least 100 residents\n",
    "\n",
    "data = census_dta.sample(n = 100)\n",
    "\n",
    "# Visualize the DataFrame\n",
    "\n",
    "\n",
    "data.head()"
   ]
  },
  {
   "cell_type": "code",
   "execution_count": null,
   "metadata": {
    "collapsed": true
   },
   "outputs": [],
   "source": [
    "# Create blank columns in DataFrame for lat/lng\n",
    "\n",
    "base_url = \"https://maps.googleapis.com/maps/api/geocode/json?\"\n",
    "params = {\n",
    "    'key' : gkey\n",
    "}\n",
    "data['lat'] = \"\"\n",
    "data['lng'] = \"\"\n",
    "\n",
    "\n",
    "# Loop through and grab the lat/lng for each of the selected zips using Google maps\n",
    "\n",
    "for index, row in data.iterrows():\n",
    "    zipcode = row['Zipcode']\n",
    "    params['address'] = zipcode\n",
    "    responses = requests.get(base_url, params = params).json()\n",
    "\n",
    "    \n",
    "    try:\n",
    "        zip_lat = responses[\"results\"][0][\"geometry\"][\"location\"][\"lat\"]\n",
    "        zip_lng = responses[\"results\"][0][\"geometry\"][\"location\"][\"lng\"]\n",
    "\n",
    "        data.set_value(index, \"Lat\", zip_lat)\n",
    "        data.set_value(index, \"Lng\", zip_lng)\n",
    "\n",
    "    except (KeyError, IndexError):\n",
    "        print(\"Error with city data. Skipping\")\n",
    "        continue\n",
    "\n",
    "\n",
    "        \n",
    "data.head()      \n",
    "   \n",
    "\n"
   ]
  },
  {
   "cell_type": "code",
   "execution_count": null,
   "metadata": {
    "collapsed": true
   },
   "outputs": [],
   "source": [
    "# Create an empty column for bank count\n",
    "\n",
    "base_url = \"https://maps.googleapis.com/maps/api/place/radarsearch/json?\"\n",
    "\n",
    "params = {\n",
    "    'keyword'  :   'bank',\n",
    "    'radius'   :    8000,\n",
    "    'key'      : gkey    \n",
    "}\n",
    "\n",
    "coordinates = []\n",
    "\n",
    "data['bank_count']= \" \"\n",
    "# Re-loop through the DataFrame and run a Google Places search to get all banks in 5 mile radius (8000 meters)\n",
    "\n",
    "for index, row in data.iterrows() : # index here represent the actually index \n",
    "    lat = row['Lat']\n",
    "    lng = row['Lng']\n",
    "    \n",
    "    \n",
    "    params['location'] = f\"{lat},{lng}\"\n",
    "    responses = requests.get(base_url, params = params)\n",
    "    #print(responses.url)\n",
    "    bank_count = len(responses.json()['results'])\n",
    "    \n",
    "    try:\n",
    "        data.set_value(index, \"bank_count\", bank_count)\n",
    "        \n",
    "    except (KeyError, IndexError):\n",
    "        print(\"Error with city data. Skipping\")\n",
    "        continue\n",
    "\n",
    "\n",
    "        \n",
    "data.head()   \n",
    "   "
   ]
  },
  {
   "cell_type": "code",
   "execution_count": null,
   "metadata": {
    "collapsed": true
   },
   "outputs": [],
   "source": [
    "# Save the DataFrame as a csv\n",
    "data.to_csv(\"zip_bank_data.csv\",\n",
    "                     encoding=\"utf-8\", index=False)"
   ]
  },
  {
   "cell_type": "code",
   "execution_count": null,
   "metadata": {
    "collapsed": true
   },
   "outputs": [],
   "source": [
    "import matplotlib.pyplot as plt\n",
    "# Build a scatter plot for each data type\n",
    "plt.scatter(data[\"bank_count\"],\n",
    "            data[\"Population\"],\n",
    "            edgecolor=\"black\", linewidths=1, marker=\"o\",\n",
    "            alpha=0.8, label=\"Zip Codes\")\n",
    "\n",
    "# Incorporate the other graph properties\n",
    "plt.title(\"Population vs. Bank Count by Zip Code\")\n",
    "plt.ylabel(\"Population\")\n",
    "plt.xlabel(\"Bank Count\")\n",
    "plt.grid(True)\n",
    "plt.xlim([-2.5, 202])\n",
    "plt.ylim([-2.5, 110000])\n",
    "\n",
    "# Save the figure\n",
    "#plt.savefig(\"output_analysis/Population_BankCount.png\")\n",
    "\n",
    "# Show plot\n",
    "plt.show()"
   ]
  },
  {
   "cell_type": "code",
   "execution_count": null,
   "metadata": {
    "collapsed": true
   },
   "outputs": [],
   "source": [
    "# Build a scatter plot for each data type\n",
    "plt.scatter(data[\"bank_count\"],\n",
    "            data[\"Median Age\"],\n",
    "            edgecolor=\"black\", linewidths=1, marker=\"o\",\n",
    "            alpha=0.8, label=\"Zip Codes\")\n",
    "\n",
    "# Incorporate the other graph properties\n",
    "plt.title(\"Median Age vs. Bank Count by Zip Code\")\n",
    "plt.ylabel(\"Median Age\")\n",
    "plt.xlabel(\"Bank Count\")\n",
    "plt.grid(True)\n",
    "plt.xlim([-2.5, 202])\n",
    "\n",
    "# Save the figure\n",
    "#plt.savefig(\"output_analysis/Age_BankCount.png\")\n",
    "\n",
    "# Show plot\n",
    "plt.show()"
   ]
  },
  {
   "cell_type": "code",
   "execution_count": null,
   "metadata": {
    "collapsed": true
   },
   "outputs": [],
   "source": [
    "# Build a scatter plot for each data type\n",
    "plt.scatter(data[\"bank_count\"], \n",
    "            data[\"Per Capita Income\"],\n",
    "            edgecolor=\"black\", linewidths=1, marker=\"o\", \n",
    "            alpha=0.8, label=\"Zip Codes\")\n",
    "\n",
    "# Incorporate the other graph properties\n",
    "plt.title(\"Per Capita Income vs. Bank Count by Zip Code\")\n",
    "plt.ylabel(\"Per Capita Income (%)\")\n",
    "plt.xlabel(\"Bank Count\")\n",
    "plt.grid(True)\n",
    "plt.xlim([-2.5, 202])\n",
    "plt.ylim([0, 165000])\n",
    "\n",
    "# Save the figure\n",
    "#plt.savefig(\"output_analysis/PerCapitaIncome_BankCount.png\")\n",
    "\n",
    "# Show plot\n",
    "plt.show()"
   ]
  },
  {
   "cell_type": "code",
   "execution_count": null,
   "metadata": {
    "collapsed": true
   },
   "outputs": [],
   "source": [
    "# Build a scatter plot for each data type\n",
    "plt.scatter(data[\"bank_count\"], \n",
    "            data[\"Poverty Rate\"],\n",
    "            edgecolor=\"black\", linewidths=1, marker=\"o\", \n",
    "            alpha=0.8, label=\"Zip Codes\")\n",
    "\n",
    "# Incorporate the other graph properties\n",
    "plt.title(\"Poverty Rate vs. Bank Count by Zip Code\")\n",
    "plt.ylabel(\"Poverty Rate (%)\")\n",
    "plt.xlabel(\"Bank Count\")\n",
    "plt.grid(True)\n",
    "plt.xlim([-2.5, 202])\n",
    "plt.ylim([-2.5, 102])\n",
    "\n",
    "# Save the figure\n",
    "#plt.savefig(\"output_analysis/PovertyRate_BankCount.png\")\n",
    "\n",
    "# Show plot\n",
    "plt.show()"
   ]
  },
  {
   "cell_type": "code",
   "execution_count": null,
   "metadata": {
    "collapsed": true
   },
   "outputs": [],
   "source": []
  },
  {
   "cell_type": "code",
   "execution_count": null,
   "metadata": {
    "collapsed": true
   },
   "outputs": [],
   "source": []
  }
 ],
 "metadata": {
  "kernelspec": {
   "display_name": "Python 3",
   "language": "python",
   "name": "python3"
  },
  "language_info": {
   "codemirror_mode": {
    "name": "ipython",
    "version": 3
   },
   "file_extension": ".py",
   "mimetype": "text/x-python",
   "name": "python",
   "nbconvert_exporter": "python",
   "pygments_lexer": "ipython3",
   "version": "3.6.4"
  }
 },
 "nbformat": 4,
 "nbformat_minor": 2
}
